{
 "cells": [
  {
   "cell_type": "code",
   "execution_count": 1,
   "metadata": {},
   "outputs": [],
   "source": [
    "import numpy as np\n",
    "import pandas as pd\n",
    "import random\n",
    "import matplotlib.pyplot as plt "
   ]
  },
  {
   "cell_type": "code",
   "execution_count": 2,
   "metadata": {},
   "outputs": [],
   "source": [
    "x = [2,3,4,10,11,12,20,25,30]\n",
    "y = [1,2,3,4,5,6,7,8,9]"
   ]
  },
  {
   "cell_type": "code",
   "execution_count": 3,
   "metadata": {},
   "outputs": [
    {
     "name": "stdout",
     "output_type": "stream",
     "text": [
      "    x  y\n",
      "0   2  1\n",
      "1   3  2\n",
      "2   4  3\n",
      "3  10  4\n",
      "4  11  5\n",
      "5  12  6\n",
      "6  20  7\n",
      "7  25  8\n",
      "8  30  9\n"
     ]
    }
   ],
   "source": [
    "columns = ['x','y']\n",
    "dt = np.array([x,y])\n",
    "df = pd.DataFrame(dt.T,columns = columns)\n",
    "print(df)"
   ]
  },
  {
   "cell_type": "code",
   "execution_count": 4,
   "metadata": {},
   "outputs": [
    {
     "data": {
      "image/png": "[encoded data removed]",
      "text/plain": [
       "<Figure size 720x360 with 1 Axes>"
      ]
     },
     "metadata": {},
     "output_type": "display_data"
    }
   ],
   "source": [
    "fig = plt.figure(figsize=(10,5))\n",
    "ax = fig.add_subplot(111)\n",
    "ax.set_title('Data')\n",
    "ax.scatter(x=df['x'],y=df['y'],label='Our Data')\n",
    "ax.set_xlabel('X_input')\n",
    "ax.set_ylabel('Y_input')\n",
    "plt.show()\n"
   ]
  },
  {
   "cell_type": "code",
   "execution_count": 5,
   "metadata": {},
   "outputs": [],
   "source": [
    "def euclidean_distance(num1,num2):\n",
    "    return ((num1[0]-num2[0])**2+(num1[1]-num2[1])**2)**0.5"
   ]
  },
  {
   "cell_type": "code",
   "execution_count": 6,
   "metadata": {},
   "outputs": [],
   "source": [
    "def find_distance_for_random_input(class1,class2,test):\n",
    "    distance = []\n",
    "    for i in range(len(df[class1])):\n",
    "        #print([int(df.T[test][class1]),int(df.T[test][class2])])\n",
    "        distance.append(int(euclidean_distance([int(df.T[test][class1]),int(df.T[test][class2])],[int(df.T[i][class1]),int(df.T[i][class2])])))\n",
    "    \n",
    "    return distance"
   ]
  },
  {
   "cell_type": "code",
   "execution_count": 7,
   "metadata": {},
   "outputs": [],
   "source": [
    "def find_distance_for_calculated_mean(class1,class2,test):\n",
    "    distance = []\n",
    "    for i in range(len(df[class1])):\n",
    "        #print([int(df.T[test][class1]),int(df.T[test][class2])])\n",
    "        distance.append(int(euclidean_distance(test,[int(df.T[i][class1]),int(df.T[i][class2])])))\n",
    "    \n",
    "    return distance"
   ]
  },
  {
   "cell_type": "code",
   "execution_count": 8,
   "metadata": {},
   "outputs": [],
   "source": [
    "def find_k_number_of_mean(k):\n",
    "    cc = [[] for i in range(len(k))]\n",
    "    for j in range(len(k[0])):\n",
    "        for i in range(len(k)):\n",
    "            if i == 0:\n",
    "                a = k[i][j] \n",
    "                b = i\n",
    "            else:\n",
    "                if(a>k[i][j]):\n",
    "                    b = i\n",
    "                    a = k[i][j]      \n",
    "        cc[b].append(j)\n",
    "    #print(cc)\n",
    "    x = []\n",
    "    for i in cc:\n",
    "        x.append(calculate_mean(i,'x','y'))\n",
    "    \n",
    "    return x"
   ]
  },
  {
   "cell_type": "code",
   "execution_count": 9,
   "metadata": {},
   "outputs": [],
   "source": [
    "def find_k_number_of_group(k):\n",
    "    cc = [[] for i in range(len(k))]\n",
    "    for j in range(len(k[0])):\n",
    "        for i in range(len(k)):\n",
    "            if i == 0:\n",
    "                a = k[i][j] \n",
    "                b = i\n",
    "            else:\n",
    "                if(a>k[i][j]):\n",
    "                    b = i\n",
    "                    a = k[i][j]      \n",
    "        cc[b].append(j)\n",
    "    \n",
    "    \n",
    "    return cc"
   ]
  },
  {
   "cell_type": "code",
   "execution_count": 10,
   "metadata": {},
   "outputs": [],
   "source": [
    "def calculate_mean(listt,class1,class2): \n",
    "    l1 = 0.0\n",
    "    l2 = 0.0\n",
    "    if listt:\n",
    "        for i in range(len(df[class1])):\n",
    "            if i in listt:\n",
    "                l1 += (df[class1][i])\n",
    "        l1 = l1/float(len(listt))\n",
    "    \n",
    "    \n",
    "        for i in range(len(df[class2])):\n",
    "            if i in listt:\n",
    "                l2 += (df[class2][i])\n",
    "        l2 = l2/float(len(listt))\n",
    "        return l1,l2\n",
    "    return [],[]"
   ]
  },
  {
   "cell_type": "code",
   "execution_count": 11,
   "metadata": {},
   "outputs": [],
   "source": [
    "def knn_classifier(k,class1,class2): # class1 = 1st attribute class, class2 = 2nd attribute class, k = k value\n",
    "    container = []\n",
    "    \n",
    "    # selecting randomly center point\n",
    "    for i in range(k):   \n",
    "        test = random.randint(0,len(df[class1])-1)\n",
    "        print(test)\n",
    "        container.append(find_distance_for_random_input(class1,class2,test))  \n",
    "    random_k_center = find_k_number_of_mean(container) \n",
    "    #selecting center point by calculation mean value\n",
    "    previous_k_center_point = random_k_center\n",
    "    #print(previous_k_center_point)\n",
    "    checker = True\n",
    "    count = 0\n",
    "    while(checker):\n",
    "        count += 1\n",
    "        container = []\n",
    "        for i in previous_k_center_point: \n",
    "            container.append(find_distance_for_calculated_mean(class1,class2,i)) \n",
    "        new_k_center_point = find_k_number_of_mean(container) \n",
    "        #print(previous_k_center_point)\n",
    "        if(previous_k_center_point == new_k_center_point):\n",
    "            return new_k_center_point, find_k_number_of_group(container)\n",
    "        previous_k_center_point = new_k_center_point\n",
    "        if count == 50:\n",
    "            checker = False\n",
    "    return previous_k_center_point, find_k_number_of_group(container)"
   ]
  },
  {
   "cell_type": "code",
   "execution_count": 116,
   "metadata": {},
   "outputs": [
    {
     "name": "stdout",
     "output_type": "stream",
     "text": [
      "4\n",
      "6\n",
      "0\n"
     ]
    },
    {
     "data": {
      "text/plain": [
       "[[3, 4, 5], [6, 7, 8], [0, 1, 2]]"
      ]
     },
     "execution_count": 116,
     "metadata": {},
     "output_type": "execute_result"
    }
   ],
   "source": [
    "k_center_point,k_number_of_group = knn_classifier(3,'x','y')\n",
    "k_number_of_group"
   ]
  },
  {
   "cell_type": "code",
   "execution_count": 118,
   "metadata": {},
   "outputs": [
    {
     "data": {
      "image/png": "[encoded data removed]",
      "text/plain": [
       "<Figure size 432x288 with 1 Axes>"
      ]
     },
     "metadata": {},
     "output_type": "display_data"
    }
   ],
   "source": [
    "\n",
    "\n",
    "x = []\n",
    "y = []\n",
    "for i in k_number_of_group:\n",
    "    a = []\n",
    "    b = []\n",
    "    for j in i:\n",
    "        a.append(df.T[j]['x'])\n",
    "        b.append(df.T[j]['y'])\n",
    "    x.append(a)\n",
    "    y.append(b)\n",
    "\n",
    "    \n",
    "data = ((np.array(x[0]),np.array(y[0])), (np.array(x[1]),np.array(y[1])), (np.array(x[2]),np.array(y[2])))\n",
    "colors = (\"red\", \"green\", \"blue\")\n",
    "groups = (\"Group1\", \"Group2\", \"Group3\") \n",
    " \n",
    "# Create plot\n",
    "fig = plt.figure()\n",
    "ax = fig.add_subplot(111)\n",
    "#ax = fig.add_subplot(1, 1, 1, axisbg=\"1.0\")\n",
    " \n",
    "for data, color, group in zip(data, colors, groups):\n",
    "    x, y = data\n",
    "    ax.scatter(x, y, alpha=0.8, c=color, edgecolors='none', s=30, label=group)\n",
    " \n",
    "plt.title('Matplot scatter plot')\n",
    "plt.legend(loc=2)\n",
    "plt.show()"
   ]
  },
  {
   "cell_type": "code",
   "execution_count": null,
   "metadata": {},
   "outputs": [],
   "source": []
  }
 ],
 "metadata": {
  "kernelspec": {
   "display_name": "Python 3",
   "language": "python",
   "name": "python3"
  },
  "language_info": {
   "codemirror_mode": {
    "name": "ipython",
    "version": 3
   },
   "file_extension": ".py",
   "mimetype": "text/x-python",
   "name": "python",
   "nbconvert_exporter": "python",
   "pygments_lexer": "ipython3",
   "version": "3.6.4"
  }
 },
 "nbformat": 4,
 "nbformat_minor": 2
}
