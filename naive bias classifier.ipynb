{
 "cells": [
  {
   "cell_type": "code",
   "execution_count": 1,
   "metadata": {},
   "outputs": [],
   "source": [
    "import numpy as np\n",
    "import pandas as pd\n",
    "import math"
   ]
  },
  {
   "cell_type": "code",
   "execution_count": 2,
   "metadata": {},
   "outputs": [],
   "source": [
    "outlook = ['Rainy','Rainy','Overcast','Sunny','Sunny','Sunny','Overcast','Rainy','Rainy','Sunny','Rainy','Overcast','Overcast','Sunny']\n",
    "temp = ['Hot','Hot','Hot','Mild','Cool','Cool','Cool','Mild','Cool','Mild','Mild','Mild','Hot','Mild']\n",
    "humidity = ['High','High','High','High','Normal','Normal','Normal','High','Normal','Normal','Normal','High','Normal','High']\n",
    "windy = ['False','True','False','False','False','True','True','False','False','False','True','True','False','True']\n",
    "play = ['No','No','Yes','Yes','Yes','No','Yes','No','Yes','Yes','Yes','Yes','Yes','No']"
   ]
  },
  {
   "cell_type": "code",
   "execution_count": 3,
   "metadata": {},
   "outputs": [
    {
     "name": "stdout",
     "output_type": "stream",
     "text": [
      "     Outlook  Temp Humidity  Windy play\n",
      "0      Rainy   Hot     High  False   No\n",
      "1      Rainy   Hot     High   True   No\n",
      "2   Overcast   Hot     High  False  Yes\n",
      "3      Sunny  Mild     High  False  Yes\n",
      "4      Sunny  Cool   Normal  False  Yes\n",
      "5      Sunny  Cool   Normal   True   No\n",
      "6   Overcast  Cool   Normal   True  Yes\n",
      "7      Rainy  Mild     High  False   No\n",
      "8      Rainy  Cool   Normal  False  Yes\n",
      "9      Sunny  Mild   Normal  False  Yes\n",
      "10     Rainy  Mild   Normal   True  Yes\n",
      "11  Overcast  Mild     High   True  Yes\n",
      "12  Overcast   Hot   Normal  False  Yes\n",
      "13     Sunny  Mild     High   True   No\n"
     ]
    }
   ],
   "source": [
    "columns = ['Outlook','Temp','Humidity','Windy','play']\n",
    "dt = np.array([outlook,temp,humidity,windy,play])\n",
    "df = pd.DataFrame(dt.T,columns = columns)\n",
    "print(df)"
   ]
  },
  {
   "cell_type": "code",
   "execution_count": 5,
   "metadata": {},
   "outputs": [],
   "source": [
    "def Frequency_table(clas1,value1,clas2,value2): \n",
    "    count = 0.0\n",
    "    count2 = 0.0\n",
    "    for i in range(len(df[clas2])):\n",
    "        if(df[clas1][i] == value1 and df[clas2][i] == value2):\n",
    "            count += 1.0\n",
    "    for i in range(len(df[clas2])):\n",
    "        if(df[clas2][i] == value2):\n",
    "            count2 += 1.0\n",
    "    return count/count2"
   ]
  },
  {
   "cell_type": "code",
   "execution_count": 6,
   "metadata": {},
   "outputs": [],
   "source": [
    "def likelihood_table(clas,value): #clas = class name, value = instance name\n",
    "    count = 0.0\n",
    "    for i in range(len(df[clas])):\n",
    "        if (df[clas][i] == value):\n",
    "            count += 1.0\n",
    "    return count/len(df[clas])"
   ]
  },
  {
   "cell_type": "code",
   "execution_count": 7,
   "metadata": {},
   "outputs": [],
   "source": [
    "def likelihood_of_the_evidence(c,x,i): # c = class name,  x = instance name,  i = row name\n",
    "    class_list = []\n",
    "    count = 0.0\n",
    "    for ii in df:      \n",
    "        class_list.append(ii)\n",
    "    for j in range(len(class_list)):\n",
    "        if class_list[j] != c:\n",
    "            if j == 0:\n",
    "                count = Frequency_table(class_list[j],df.T[i][j],c,x) \n",
    "            else:\n",
    "                count = count*Frequency_table(class_list[j],df.T[i][j],c,x)   \n",
    "    return count"
   ]
  },
  {
   "cell_type": "code",
   "execution_count": 8,
   "metadata": {},
   "outputs": [],
   "source": [
    "def class_prior_probability(c,x):\n",
    "    count = likelihood_table(c,x)\n",
    "    return count"
   ]
  },
  {
   "cell_type": "code",
   "execution_count": 9,
   "metadata": {},
   "outputs": [],
   "source": [
    "def predictor_prior_probability(class_name,x):\n",
    "    counter = 0.0\n",
    "    for i in set(df[class_name]):\n",
    "        counter += (likelihood_table(class_name,i)*likelihood_of_the_evidence(class_name,i,x))\n",
    "    return counter"
   ]
  },
  {
   "cell_type": "code",
   "execution_count": 10,
   "metadata": {},
   "outputs": [],
   "source": [
    "def make_prediction(class_name,x): \n",
    "    output = []\n",
    "    for i in set(df[class_name]):\n",
    "        container = []\n",
    "        container.append(i)\n",
    "        container.append((class_prior_probability(class_name,i)*likelihood_of_the_evidence(class_name,i,x))/predictor_prior_probability(class_name,x))\n",
    "        output.append(container)\n",
    "    return output"
   ]
  },
  {
   "cell_type": "code",
   "execution_count": 12,
   "metadata": {},
   "outputs": [
    {
     "name": "stdout",
     "output_type": "stream",
     "text": [
      "[['Yes', 0.5364806866952788], ['No', 0.46351931330472107]]\n"
     ]
    }
   ],
   "source": [
    "print(make_prediction('play',3))"
   ]
  },
  {
   "cell_type": "code",
   "execution_count": null,
   "metadata": {},
   "outputs": [],
   "source": []
  }
 ],
 "metadata": {
  "kernelspec": {
   "display_name": "Python 3",
   "language": "python",
   "name": "python3"
  },
  "language_info": {
   "codemirror_mode": {
    "name": "ipython",
    "version": 3
   },
   "file_extension": ".py",
   "mimetype": "text/x-python",
   "name": "python",
   "nbconvert_exporter": "python",
   "pygments_lexer": "ipython3",
   "version": "3.6.4"
  }
 },
 "nbformat": 4,
 "nbformat_minor": 2
}
